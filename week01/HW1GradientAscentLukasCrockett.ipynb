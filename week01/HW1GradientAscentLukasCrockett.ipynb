{
 "cells": [
  {
   "cell_type": "code",
   "execution_count": 42,
   "id": "2d7a4ae1",
   "metadata": {},
   "outputs": [],
   "source": [
    "from matplotlib import pyplot as plt\n",
    "\n",
    "import jax\n",
    "from jax import numpy as jnp\n",
    "cos, sin, pi = jnp.cos, jnp.sin, jnp.pi"
   ]
  },
  {
   "cell_type": "code",
   "execution_count": 43,
   "id": "53204314",
   "metadata": {},
   "outputs": [],
   "source": [
    "C = lambda x: 1/2 * (cos(x[0])**2 + sin(x[1]) ** 2)"
   ]
  },
  {
   "cell_type": "code",
   "execution_count": 44,
   "id": "41ddbf31",
   "metadata": {},
   "outputs": [],
   "source": [
    "xrange = jnp.linspace(-2*pi, 2*pi, 101)\n",
    "yrange = jnp.linspace(-2*pi, 2*pi, 99)\n",
    "xx, yy = jnp.meshgrid(xrange, yrange)\n",
    "Z = C(jnp.array([xx, yy]))"
   ]
  },
  {
   "cell_type": "code",
   "execution_count": null,
   "id": "dadb125f",
   "metadata": {},
   "outputs": [],
   "source": [
    "fig, ax = plt.subplots(figsize=(6, 6))\n",
    "c = ax.contourf(xx, yy, Z, levels=50, cmap='viridis')\n",
    "plt.colorbar(c, label='Z value')\n",
    "ax.set_aspect('equal')\n",
    "ax.set_xlabel('$x_0$')\n",
    "ax.set_ylabel('$x_1$')"
   ]
  },
  {
   "cell_type": "code",
   "execution_count": null,
   "id": "7b35ec2e",
   "metadata": {},
   "outputs": [],
   "source": [
    "fig, ax = plt.subplots(figsize=(6, 6))\n",
    "ax = plt.axes(projection='3d')\n",
    "ax.plot_surface(xx, yy, Z, rstride=1, cstride=1, cmap='viridis', edgecolor='none')\n",
    "ax.set_xlim([-5*pi/2, 5*pi/2])\n",
    "ax.set_ylim([-2*pi, 2*pi])\n",
    "ax.set_zlim([0, 1])\n",
    "ax.set_xlabel('$x_0$')\n",
    "ax.set_ylabel('$x_1$')\n",
    "ax.set_zlabel('C(x)')\n",
    "ax.text2D(0.05, 0.95, \"$C(x) = 1/2 \\\\left(\\\\cos(x_0)^2 + \\\\sin(x_1)^2 \\\\right)$\", transform=ax.transAxes)"
   ]
  },
  {
   "cell_type": "code",
   "execution_count": 45,
   "id": "6c078b38",
   "metadata": {},
   "outputs": [
    {
     "data": {
      "text/plain": [
       "Array([ True,  True], dtype=bool)"
      ]
     },
     "execution_count": 45,
     "metadata": {},
     "output_type": "execute_result"
    }
   ],
   "source": [
    "grad_C = lambda x: jnp.array([-cos(x[0]) * sin(x[0]), sin(x[1]) * cos(x[1])])\n",
    "ad_C = jax.grad(C)\n",
    "jnp.isclose(ad_C(jnp.array([1., 2.])), grad_C(jnp.array([1., 2.])), atol=1e-5)"
   ]
  },
  {
   "cell_type": "code",
   "execution_count": 46,
   "id": "3c7e59c8",
   "metadata": {},
   "outputs": [],
   "source": [
    "def gradient_descent(grad, x0, eta, n_iter=25, rtol=1e-3):\n",
    "    x = x0\n",
    "    trajectory = [x]\n",
    "    for _ in range(n_iter):\n",
    "        dx = -eta * grad(x)\n",
    "        if jnp.linalg.norm(dx) < rtol:\n",
    "            break\n",
    "        x += dx\n",
    "        trajectory.append(x)\n",
    "    return jnp.array(trajectory)"
   ]
  },
  {
   "cell_type": "code",
   "execution_count": 47,
   "id": "2533b455",
   "metadata": {},
   "outputs": [],
   "source": [
    "x_hand = gradient_descent(grad_C, jnp.array([-6.0, 2.]), n_iter=100, eta=0.1)\n",
    "x_ad = gradient_descent(ad_C, jnp.array([0.5, 0.1]), n_iter=10000, eta=1.0)\n",
    "# assert jnp.allclose(x_hand, x_ad)"
   ]
  },
  {
   "cell_type": "code",
   "execution_count": 48,
   "id": "bce25297",
   "metadata": {},
   "outputs": [
    {
     "data": {
      "text/plain": [
       "Array([0.        , 0.09933467], dtype=float32)"
      ]
     },
     "execution_count": 48,
     "metadata": {},
     "output_type": "execute_result"
    }
   ],
   "source": [
    "ad_C(jnp.array([0., 0.1]))"
   ]
  },
  {
   "cell_type": "code",
   "execution_count": 49,
   "id": "54b359b2",
   "metadata": {},
   "outputs": [
    {
     "data": {
      "text/plain": [
       "<matplotlib.legend.Legend at 0x7f0f3e02c550>"
      ]
     },
     "execution_count": 49,
     "metadata": {},
     "output_type": "execute_result"
    },
    {
     "data": {
      "image/png": "[encoded data removed]",
      "text/plain": [
       "<Figure size 600x600 with 1 Axes>"
      ]
     },
     "metadata": {},
     "output_type": "display_data"
    }
   ],
   "source": [
    "xrange = jnp.arange(-5*pi/2,3*pi/2,pi)\n",
    "yrange = jnp.arange(-pi,3*pi,pi)\n",
    "xx, yy = jnp.meshgrid(xrange, yrange)\n",
    "\n",
    "fig, ax = plt.subplots(figsize=(6, 6))\n",
    "ax.scatter(xx, yy, s=40)\n",
    "ax.plot(x_hand[:,0], x_hand[:,1], '-.', color=\"black\", label='hand-coded gradient', linewidth=5, alpha=0.75)\n",
    "ax.plot(x_ad[:,0], x_ad[:,1], '--', label='autodiff gradient', color=\"red\", linewidth=2)\n",
    "ax.legend()"
   ]
  },
  {
   "cell_type": "code",
   "execution_count": 50,
   "id": "773bbae7",
   "metadata": {},
   "outputs": [],
   "source": [
    "def gradient_ascent(grad, x0, eta, n_iter=25, rtol=1e-3):\n",
    "    x = x0\n",
    "    trajectory = [x]\n",
    "    for _ in range(n_iter):\n",
    "        dx = eta * grad(x) #positive eta for ascent\n",
    "        if jnp.linalg.norm(dx) < rtol:\n",
    "            break\n",
    "        x += dx\n",
    "        trajectory.append(x)\n",
    "    return jnp.array(trajectory)"
   ]
  },
  {
   "cell_type": "code",
   "execution_count": 61,
   "id": "f80189dc",
   "metadata": {},
   "outputs": [],
   "source": [
    "import random as rand\n",
    "\n",
    "x_ascent_hand = gradient_ascent(grad_C, jnp.array([-6.0, 2.]), n_iter=100, eta=0.1)\n",
    "x_ascent_ad = gradient_ascent(ad_C, jnp.array([0.5, 0.1]), n_iter=10000, eta=1.0)\n",
    "x_ascent_rand = gradient_ascent(ad_C, jnp.array([rand.uniform(-7,7), rand.uniform(-6.2, 6.2)]), n_iter=10000, eta=1)\n",
    "# assert jnp.allclose(x_hand, x_ad)"
   ]
  },
  {
   "cell_type": "code",
   "execution_count": 62,
   "id": "6c5f9be6",
   "metadata": {},
   "outputs": [
    {
     "data": {
      "text/plain": [
       "Text(0.5, 1.0, 'Gradient Ascent')"
      ]
     },
     "execution_count": 62,
     "metadata": {},
     "output_type": "execute_result"
    },
    {
     "data": {
      "image/png": "[encoded data removed]",
      "text/plain": [
       "<Figure size 600x600 with 1 Axes>"
      ]
     },
     "metadata": {},
     "output_type": "display_data"
    }
   ],
   "source": [
    "#Plot the local maxima and gradient acent from starting points\n",
    "\n",
    "xrange = jnp.arange(-4*pi/2,6*pi/2,pi)\n",
    "yrange = jnp.arange(-3*pi/2,5*pi/2,pi)\n",
    "xx, yy = jnp.meshgrid(xrange, yrange)\n",
    "\n",
    "fig, ax = plt.subplots(figsize=(6, 6))\n",
    "ax.scatter(xx, yy, s=40)\n",
    "ax.plot(x_ascent_hand[:,0], x_ascent_hand[:,1], '-.', color=\"black\", label='hand-coded gradient', linewidth=5, alpha=0.75)\n",
    "ax.plot(x_ascent_ad[:,0], x_ascent_ad[:,1], '--', label='autodiff gradient', color=\"red\", linewidth=2)\n",
    "ax.plot(x_ascent_rand[:,0], x_ascent_rand[:,1], '--', label='random start pnt', color=\"green\", linewidth=2)\n",
    "ax.set_xlim(-5*pi/2,5*pi/2)\n",
    "ax.set_ylim(-2*pi, 2*pi)\n",
    "ax.legend()\n",
    "ax.set_title(\"Gradient Ascent\")"
   ]
  }
 ],
 "metadata": {
  "kernelspec": {
   "display_name": ".venv",
   "language": "python",
   "name": "python3"
  },
  "language_info": {
   "codemirror_mode": {
    "name": "ipython",
    "version": 3
   },
   "file_extension": ".py",
   "mimetype": "text/x-python",
   "name": "python",
   "nbconvert_exporter": "python",
   "pygments_lexer": "ipython3",
   "version": "3.13.7"
  }
 },
 "nbformat": 4,
 "nbformat_minor": 5
}
