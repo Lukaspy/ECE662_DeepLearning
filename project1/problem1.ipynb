{
 "cells": [
  {
   "cell_type": "code",
   "execution_count": 1,
   "id": "43777a36",
   "metadata": {},
   "outputs": [
    {
     "data": {
      "text/plain": [
       "(10000, 3)"
      ]
     },
     "execution_count": 1,
     "metadata": {},
     "output_type": "execute_result"
    }
   ],
   "source": [
    "import jax\n",
    "import jax.numpy as jnp\n",
    "import numpy as np\n",
    "import optax\n",
    "import equinox as eqx\n",
    "from mlp_prob1 import MLP\n",
    "\n",
    "with open(\"data.npy\", 'rb') as f:\n",
    "    s = jnp.load(f)\n",
    "    phi = jnp.load(f)\n",
    "    \n",
    "#s[n] = (θ,  ̇θ, h) \n",
    "s.shape"
   ]
  },
  {
   "cell_type": "code",
   "execution_count": 2,
   "id": "529c9512",
   "metadata": {},
   "outputs": [
    {
     "data": {
      "text/plain": [
       "(10000, 4)"
      ]
     },
     "execution_count": 2,
     "metadata": {},
     "output_type": "execute_result"
    }
   ],
   "source": [
    "#φ[n] = [φ_1 φ_2 φ_3z φ_3x] //one row\n",
    "phi.shape"
   ]
  },
  {
   "cell_type": "code",
   "execution_count": null,
   "id": "de3d64a6",
   "metadata": {},
   "outputs": [],
   "source": [
    "def shuffle_and_split(x, y, train_pcnt = 0.8, seed = 42):\n",
    "    \n",
    "    #shuffle the dataset and split into test/train\n",
    "    n = len(s)\n",
    "    indexes = np.arange(n)\n",
    "    np.random.seed(seed)\n",
    "    np.random.shuffle(indexes)\n",
    "    \n",
    "    split = int (train_pcnt * n)\n",
    "    \n",
    "    train_idx = indexes[0:split]\n",
    "    test_idx = indexes[split:]\n",
    "    \n",
    "    x_train, x_test = x[train_idx], x[test_idx]\n",
    "    y_train, y_test = y[train_idx], y[test_idx]\n",
    "    return x_train, y_train, x_test, y_test\n",
    "\n",
    "s_train, phi_train, s_test, phi_test = shuffle_and_split(s, phi)\n",
    "\n",
    "    #def batch_generator(x, y):\n",
    "        #n = len(x)\n",
    "        \n",
    "        #for start_idx in range(0, n, batch_size):\n",
    "            #end_idx = start_idx + batch_size\n",
    "            #yield x[start_idx:end_idx], y[start_idx:end_idx]\n",
    "\n",
    "    #return batch_generator(s_train, phi_train), batch_generator(s_test, phi_test)\n",
    "    \n",
    "\n",
    "    \n",
    "\n",
    "\n",
    "\n",
    "\n",
    "        \n",
    "\n",
    "    \n",
    "    \n"
   ]
  },
  {
   "cell_type": "code",
   "execution_count": 4,
   "id": "04f843e4",
   "metadata": {},
   "outputs": [
    {
     "name": "stdout",
     "output_type": "stream",
     "text": [
      "(8000, 3)\n",
      "(2000, 3)\n",
      "(8000, 4)\n",
      "(2000, 4)\n"
     ]
    }
   ],
   "source": [
    "print(s_train.shape)\n",
    "print(s_test.shape)\n",
    "\n",
    "\n",
    "print(phi_train.shape)\n",
    "print(phi_test.shape)"
   ]
  },
  {
   "cell_type": "code",
   "execution_count": null,
   "id": "da67c69c",
   "metadata": {},
   "outputs": [],
   "source": [
    "# Loss function and accuracy metric\n",
    "\n",
    "def compute_loss(model, x, y):\n",
    "    pred_y = jax.vmap(model)(x)  \n",
    "    return jnp.mean((pred_y - y) ** 2)\n",
    "\n",
    "#RMSE, since this is a regression model\n",
    "def compute_accuracy(model, x, y): \n",
    "\n",
    "    def eval_single(model, x, y):\n",
    "        pred_y = model(x)\n",
    "        residual_sq = jnp.mean((y - pred_y)**2)\n",
    "        return residual_sq\n",
    "    res_all = jax.vmap(eval_single, in_axes=(None, 0, 0))(model, x, y)\n",
    "    return jnp.sqrt(jnp.sum(res_all) / x.shape[0])\n",
    "    "
   ]
  },
  {
   "cell_type": "code",
   "execution_count": 6,
   "id": "ea8150ef",
   "metadata": {},
   "outputs": [],
   "source": [
    "# Training step (JIT compiled)\n",
    "@eqx.filter_jit\n",
    "def train_step(model, x, y, opt_state, optimizer):\n",
    "    def loss_fn(model):\n",
    "        return compute_loss(model, x, y)\n",
    "    loss, grads = eqx.filter_value_and_grad(loss_fn)(model)\n",
    "    updates, opt_state = optimizer.update(grads, opt_state, eqx.filter(model, eqx.is_array))\n",
    "    model = eqx.apply_updates(model, updates)\n",
    "    return model, opt_state"
   ]
  },
  {
   "cell_type": "code",
   "execution_count": 7,
   "id": "fa3bfee6",
   "metadata": {},
   "outputs": [],
   "source": [
    "\n",
    "# Initialize model and optimizer\n",
    "key = jax.random.PRNGKey(0)\n",
    "model = MLP(key) # Instantiate your MLP model here\n",
    "optimizer = optax.adamw(learning_rate=1e-3, weight_decay=1e-4) # Choose your optimizer and learning_rate.\n",
    "opt_state = optimizer.init(eqx.filter(model, eqx.is_array))"
   ]
  },
  {
   "cell_type": "code",
   "execution_count": 8,
   "id": "f67ec3d5",
   "metadata": {},
   "outputs": [
    {
     "data": {
      "text/plain": [
       "(128, 2)"
      ]
     },
     "execution_count": 8,
     "metadata": {},
     "output_type": "execute_result"
    }
   ],
   "source": [
    "phi[0:128, [3,2]].shape"
   ]
  },
  {
   "cell_type": "code",
   "execution_count": null,
   "id": "c8247dc6",
   "metadata": {},
   "outputs": [
    {
     "name": "stdout",
     "output_type": "stream",
     "text": [
      "Epoch 1: Loss=0.0109, RMSE=0.1045  Test set: Loss=0.0105, RMSE=0.1027\n",
      "Epoch 50: Loss=0.0118, RMSE=0.1087  Test set: Loss=0.0116, RMSE=0.1076\n",
      "Epoch 100: Loss=0.0187, RMSE=0.1367  Test set: Loss=0.0189, RMSE=0.1376\n",
      "Epoch 150: Loss=0.0178, RMSE=0.1333  Test set: Loss=0.0184, RMSE=0.1358\n",
      "Epoch 200: Loss=0.0142, RMSE=0.1192  Test set: Loss=0.0148, RMSE=0.1218\n",
      "Epoch 250: Loss=0.0168, RMSE=0.1297  Test set: Loss=0.0186, RMSE=0.1364\n",
      "Epoch 300: Loss=0.0154, RMSE=0.1240  Test set: Loss=0.0181, RMSE=0.1346\n",
      "Epoch 350: Loss=0.0189, RMSE=0.1375  Test set: Loss=0.0222, RMSE=0.1491\n",
      "Epoch 400: Loss=0.0073, RMSE=0.0853  Test set: Loss=0.0095, RMSE=0.0975\n",
      "Epoch 450: Loss=0.0126, RMSE=0.1123  Test set: Loss=0.0152, RMSE=0.1234\n",
      "Epoch 500: Loss=0.0057, RMSE=0.0752  Test set: Loss=0.0076, RMSE=0.0871\n"
     ]
    }
   ],
   "source": [
    "\n",
    "# Training loop\n",
    "num_epochs = 500\n",
    "num_train = len(s_train)\n",
    "batch_size = 64\n",
    "x_test = s_test[:,[0,2]]\n",
    "y_test = phi_test[:,[3,2]]\n",
    "for epoch in range(num_epochs):\n",
    "\n",
    "    for batch_start in range(0, num_train, batch_size):\n",
    "        batch_end = batch_start + batch_size\n",
    "        x_batch = s_train[batch_start:batch_end,[0,2]] #train only on theta and h since assuming theta_dot = 0\n",
    "        y_batch = phi_train[batch_start:batch_end, [3,2]] #model ouput should be f_3x and f_3z only\n",
    "        model, opt_state = train_step(model, x_batch, y_batch, opt_state, optimizer)\n",
    "\n",
    "    if (epoch + 1) % 50 == 0 or epoch == 0:\n",
    "        loss = compute_loss(model, x_batch, y_batch)\n",
    "        acc = compute_accuracy(model, x_batch, y_batch)\n",
    "        test_loss = compute_loss(model, x_test, y_test)\n",
    "        test_acc = compute_accuracy(model, x_test, y_test)\n",
    "        print(f\"Epoch {epoch+1}: Loss={loss:.4f}, RMSE={acc:.4f}  Test set: Loss={test_loss:.4f}, RMSE={test_acc:.4f}\")"
   ]
  }
 ],
 "metadata": {
  "kernelspec": {
   "display_name": "3.10.13",
   "language": "python",
   "name": "python3"
  },
  "language_info": {
   "codemirror_mode": {
    "name": "ipython",
    "version": 3
   },
   "file_extension": ".py",
   "mimetype": "text/x-python",
   "name": "python",
   "nbconvert_exporter": "python",
   "pygments_lexer": "ipython3",
   "version": "3.10.13"
  }
 },
 "nbformat": 4,
 "nbformat_minor": 5
}
