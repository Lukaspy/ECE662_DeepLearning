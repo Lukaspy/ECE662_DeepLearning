{
 "cells": [
  {
   "cell_type": "code",
   "execution_count": 1,
   "id": "43777a36",
   "metadata": {},
   "outputs": [
    {
     "data": {
      "text/plain": [
       "(10000, 3)"
      ]
     },
     "execution_count": 1,
     "metadata": {},
     "output_type": "execute_result"
    }
   ],
   "source": [
    "import jax\n",
    "import jax.numpy as jnp\n",
    "import numpy as np\n",
    "import optax\n",
    "import equinox as eqx\n",
    "from mlp_prob1 import MLP\n",
    "\n",
    "with open(\"data.npy\", 'rb') as f:\n",
    "    s = jnp.load(f)\n",
    "    phi = jnp.load(f)\n",
    "    \n",
    "#s[n] = (θ,  ̇θ, h) \n",
    "s.shape"
   ]
  },
  {
   "cell_type": "code",
   "execution_count": 2,
   "id": "529c9512",
   "metadata": {},
   "outputs": [
    {
     "data": {
      "text/plain": [
       "(10000, 4)"
      ]
     },
     "execution_count": 2,
     "metadata": {},
     "output_type": "execute_result"
    }
   ],
   "source": [
    "#φ[n] = [φ_1 φ_2 φ_3z φ_3x] //one row\n",
    "phi.shape"
   ]
  },
  {
   "cell_type": "code",
   "execution_count": 3,
   "id": "de3d64a6",
   "metadata": {},
   "outputs": [],
   "source": [
    "\n",
    "with open(\"data.npy\", 'rb') as f:\n",
    "    s = jnp.load(f)\n",
    "    phi = jnp.load(f)\n",
    "\n",
    "def shuffle_and_split(x, y, train_pcnt = 0.8, seed = 42):\n",
    "    \n",
    "    #shuffle the dataset and split into test/train\n",
    "    n = len(s)\n",
    "    indexes = np.arange(n)\n",
    "    np.random.seed(seed)\n",
    "    np.random.shuffle(indexes)\n",
    "    \n",
    "    split = int (train_pcnt * n)\n",
    "    \n",
    "    train_idx = indexes[0:split]\n",
    "    test_idx = indexes[split:]\n",
    "    \n",
    "    x_train, x_test = x[train_idx], x[test_idx]\n",
    "    y_train, y_test = y[train_idx], y[test_idx]\n",
    "    return x_train, y_train, x_test, y_test\n",
    "\n",
    "s_train, phi_train, s_test, phi_test = shuffle_and_split(s, phi)\n",
    "\n",
    "    #def batch_generator(x, y):\n",
    "        #n = len(x)\n",
    "        \n",
    "        #for start_idx in range(0, n, batch_size):\n",
    "            #end_idx = start_idx + batch_size\n",
    "            #yield x[start_idx:end_idx], y[start_idx:end_idx]\n",
    "\n",
    "    #return batch_generator(s_train, phi_train), batch_generator(s_test, phi_test)\n",
    "    \n",
    "\n",
    "    \n",
    "\n",
    "\n",
    "\n",
    "\n",
    "        \n",
    "\n",
    "    \n",
    "    \n"
   ]
  },
  {
   "cell_type": "code",
   "execution_count": 4,
   "id": "04f843e4",
   "metadata": {},
   "outputs": [
    {
     "name": "stdout",
     "output_type": "stream",
     "text": [
      "(8000, 3)\n",
      "(2000, 3)\n",
      "(8000, 4)\n",
      "(2000, 4)\n"
     ]
    }
   ],
   "source": [
    "print(s_train.shape)\n",
    "print(s_test.shape)\n",
    "\n",
    "\n",
    "print(phi_train.shape)\n",
    "print(phi_test.shape)"
   ]
  },
  {
   "cell_type": "code",
   "execution_count": 5,
   "id": "da67c69c",
   "metadata": {},
   "outputs": [],
   "source": [
    "# Loss function and accuracy metric\n",
    "\n",
    "def compute_loss(model, x, y):\n",
    "    pred_y = jax.vmap(model)(x)  \n",
    "    return jnp.mean((pred_y - y) ** 2)\n",
    "\n",
    "\n",
    "def compute_accuracy(model, x, y):\n",
    "\n",
    "    def eval_single(model, x, y):\n",
    "        pred_y = model(x)\n",
    "        residual_sq = jnp.mean((y - pred_y)**2)\n",
    "        return residual_sq\n",
    "    res_all = jax.vmap(eval_single, in_axes=(None, 0, 0))(model, x, y)\n",
    "    return jnp.sqrt(jnp.sum(res_all) / x.shape[0])\n",
    "    "
   ]
  },
  {
   "cell_type": "code",
   "execution_count": 6,
   "id": "ea8150ef",
   "metadata": {},
   "outputs": [],
   "source": [
    "# Training step (JIT compiled)\n",
    "@eqx.filter_jit\n",
    "def train_step(model, x, y, opt_state, optimizer):\n",
    "    def loss_fn(model):\n",
    "        return compute_loss(model, x, y)\n",
    "    loss, grads = eqx.filter_value_and_grad(loss_fn)(model)\n",
    "    updates, opt_state = optimizer.update(grads, opt_state, eqx.filter(model, eqx.is_array))\n",
    "    model = eqx.apply_updates(model, updates)\n",
    "    return model, opt_state"
   ]
  },
  {
   "cell_type": "code",
   "execution_count": 7,
   "id": "fa3bfee6",
   "metadata": {},
   "outputs": [],
   "source": [
    "\n",
    "# Initialize model and optimizer\n",
    "key = jax.random.PRNGKey(0)\n",
    "model = MLP(key) # Instantiate your MLP model here\n",
    "optimizer = optax.adamw(learning_rate=1e-3, weight_decay=1e-4) # Choose your optimizer and learning_rate.\n",
    "opt_state = optimizer.init(eqx.filter(model, eqx.is_array))"
   ]
  },
  {
   "cell_type": "code",
   "execution_count": 8,
   "id": "f67ec3d5",
   "metadata": {},
   "outputs": [
    {
     "data": {
      "text/plain": [
       "(128, 2)"
      ]
     },
     "execution_count": 8,
     "metadata": {},
     "output_type": "execute_result"
    }
   ],
   "source": [
    "phi[0:128, [3,2]].shape"
   ]
  },
  {
   "cell_type": "code",
   "execution_count": 9,
   "id": "c8247dc6",
   "metadata": {},
   "outputs": [
    {
     "name": "stdout",
     "output_type": "stream",
     "text": [
      "Epoch 1: Loss=2.2544, RMSE=1.5015  Test set: Loss=2.0732, RMSE=1.4399\n",
      "Epoch 50: Loss=1.2513, RMSE=1.1186  Test set: Loss=1.1748, RMSE=1.0839\n",
      "Epoch 100: Loss=0.1765, RMSE=0.4201  Test set: Loss=0.1787, RMSE=0.4227\n",
      "Epoch 150: Loss=0.0249, RMSE=0.1579  Test set: Loss=0.0215, RMSE=0.1465\n",
      "Epoch 200: Loss=0.0165, RMSE=0.1286  Test set: Loss=0.0144, RMSE=0.1201\n",
      "Epoch 250: Loss=0.0126, RMSE=0.1124  Test set: Loss=0.0113, RMSE=0.1061\n",
      "Epoch 300: Loss=0.0106, RMSE=0.1028  Test set: Loss=0.0099, RMSE=0.0995\n"
     ]
    }
   ],
   "source": [
    "\n",
    "# Training loop\n",
    "num_epochs = 300\n",
    "num_train = len(s_train)\n",
    "batch_size = 128\n",
    "x_test = s_test[:,[0,2]]\n",
    "y_test = phi_test[:,[3,2]]\n",
    "for epoch in range(num_epochs):\n",
    "\n",
    "    for batch_start in range(0, num_train, batch_size):\n",
    "        batch_end = batch_start + batch_size\n",
    "        x_batch = s_train[batch_start:batch_end,[0,2]] #train only on theta and h since assuming theta_dot = 0\n",
    "        y_batch = phi_train[batch_start:batch_end, [3,2]] #model ouput should be f_3x and f_3z only\n",
    "        model, opt_state = train_step(model, x_batch, y_batch, opt_state, optimizer)\n",
    "\n",
    "    if (epoch + 1) % 50 == 0 or epoch == 0:\n",
    "        loss = compute_loss(model, x_batch, y_batch)\n",
    "        acc = compute_accuracy(model, x_batch, y_batch)\n",
    "        test_loss = compute_loss(model, x_test, y_test)\n",
    "        test_acc = compute_accuracy(model, x_test, y_test)\n",
    "        print(f\"Epoch {epoch+1}: Loss={loss:.4f}, RMSE={acc:.4f}  Test set: Loss={test_loss:.4f}, RMSE={test_acc:.4f}\")"
   ]
  }
 ],
 "metadata": {
  "kernelspec": {
   "display_name": ".venv",
   "language": "python",
   "name": "python3"
  },
  "language_info": {
   "codemirror_mode": {
    "name": "ipython",
    "version": 3
   },
   "file_extension": ".py",
   "mimetype": "text/x-python",
   "name": "python",
   "nbconvert_exporter": "python",
   "pygments_lexer": "ipython3",
   "version": "3.13.7"
  }
 },
 "nbformat": 4,
 "nbformat_minor": 5
}
