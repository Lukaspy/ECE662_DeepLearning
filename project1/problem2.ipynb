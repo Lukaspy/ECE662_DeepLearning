{
 "cells": [
  {
   "cell_type": "code",
   "execution_count": 14,
   "id": "43777a36",
   "metadata": {},
   "outputs": [
    {
     "data": {
      "text/plain": [
       "(10000, 3)"
      ]
     },
     "execution_count": 14,
     "metadata": {},
     "output_type": "execute_result"
    }
   ],
   "source": [
    "import jax\n",
    "import jax.numpy as jnp\n",
    "import numpy as np\n",
    "import optax\n",
    "import equinox as eqx\n",
    "from mlp_prob2 import MLP\n",
    "\n",
    "with open(\"data.npy\", 'rb') as f:\n",
    "    s = jnp.load(f)\n",
    "    phi = jnp.load(f) # phi for prob 1\n",
    "    phi_2 = jnp.load(f) #phi for prob 2\n",
    "    phi_3 = jnp.load(f) #phi for prob 3\n",
    "    \n",
    "#s[n] = (θ,  ̇θ, h) \n",
    "s.shape"
   ]
  },
  {
   "cell_type": "code",
   "execution_count": null,
   "id": "529c9512",
   "metadata": {},
   "outputs": [
    {
     "data": {
      "text/plain": [
       "(10000, 4)"
      ]
     },
     "execution_count": 15,
     "metadata": {},
     "output_type": "execute_result"
    }
   ],
   "source": [
    "#φn] = [φ_1 φ_2 φ_3z φ_3x] //one row\n",
    "phi.shape"
   ]
  },
  {
   "cell_type": "code",
   "execution_count": 16,
   "id": "de3d64a6",
   "metadata": {},
   "outputs": [],
   "source": [
    "\n",
    "with open(\"data.npy\", 'rb') as f:\n",
    "    s = jnp.load(f)\n",
    "    phi = jnp.load(f)\n",
    "\n",
    "def shuffle_and_split(x, y, train_pcnt = 0.8, seed = 42):\n",
    "    \n",
    "    #shuffle the dataset and split into test/train\n",
    "    n = len(s)\n",
    "    indexes = np.arange(n)\n",
    "    np.random.seed(seed)\n",
    "    np.random.shuffle(indexes)\n",
    "    \n",
    "    split = int (train_pcnt * n)\n",
    "    \n",
    "    train_idx = indexes[0:split]\n",
    "    test_idx = indexes[split:]\n",
    "    \n",
    "    x_train, x_test = x[train_idx], x[test_idx]\n",
    "    y_train, y_test = y[train_idx], y[test_idx]\n",
    "    return x_train, y_train, x_test, y_test\n",
    "\n",
    "s_train, phi_train, s_test, phi_test = shuffle_and_split(s, phi_2)\n"
   ]
  },
  {
   "cell_type": "code",
   "execution_count": 17,
   "id": "04f843e4",
   "metadata": {},
   "outputs": [
    {
     "name": "stdout",
     "output_type": "stream",
     "text": [
      "(8000, 3)\n",
      "(2000, 3)\n",
      "(8000, 4)\n",
      "(2000, 4)\n"
     ]
    }
   ],
   "source": [
    "print(s_train.shape)\n",
    "print(s_test.shape)\n",
    "\n",
    "\n",
    "print(phi_train.shape)\n",
    "print(phi_test.shape)"
   ]
  },
  {
   "cell_type": "code",
   "execution_count": 18,
   "id": "da67c69c",
   "metadata": {},
   "outputs": [],
   "source": [
    "# Loss function and accuracy metric\n",
    "\n",
    "def compute_loss(model, x, y):\n",
    "    pred_y = jax.vmap(model)(x)  \n",
    "    return jnp.mean((pred_y - y) ** 2)\n",
    "\n",
    "\n",
    "def compute_accuracy(model, x, y):\n",
    "\n",
    "    def eval_single(model, x, y):\n",
    "        pred_y = model(x)\n",
    "        residual_sq = jnp.mean((y - pred_y)**2)\n",
    "        return residual_sq\n",
    "    res_all = jax.vmap(eval_single, in_axes=(None, 0, 0))(model, x, y)\n",
    "    return jnp.sqrt(jnp.sum(res_all) / x.shape[0])\n",
    "    "
   ]
  },
  {
   "cell_type": "code",
   "execution_count": 19,
   "id": "ea8150ef",
   "metadata": {},
   "outputs": [],
   "source": [
    "# Training step (JIT compiled)\n",
    "@eqx.filter_jit\n",
    "def train_step(model, x, y, opt_state, optimizer):\n",
    "    def loss_fn(model):\n",
    "        return compute_loss(model, x, y)\n",
    "    loss, grads = eqx.filter_value_and_grad(loss_fn)(model)\n",
    "    updates, opt_state = optimizer.update(grads, opt_state, eqx.filter(model, eqx.is_array))\n",
    "    model = eqx.apply_updates(model, updates)\n",
    "    return model, opt_state"
   ]
  },
  {
   "cell_type": "code",
   "execution_count": 20,
   "id": "fa3bfee6",
   "metadata": {},
   "outputs": [],
   "source": [
    "\n",
    "# Initialize model and optimizer\n",
    "key = jax.random.PRNGKey(0)\n",
    "model = MLP(key) # Instantiate your MLP model here\n",
    "optimizer = optax.adamw(learning_rate=1e-3, weight_decay=1e-4) # Choose your optimizer and learning_rate.\n",
    "opt_state = optimizer.init(eqx.filter(model, eqx.is_array))"
   ]
  },
  {
   "cell_type": "code",
   "execution_count": 21,
   "id": "f67ec3d5",
   "metadata": {},
   "outputs": [
    {
     "data": {
      "text/plain": [
       "(128, 3)"
      ]
     },
     "execution_count": 21,
     "metadata": {},
     "output_type": "execute_result"
    }
   ],
   "source": [
    "phi[0:128, [3,2]].shape\n",
    "s[0:128].shape"
   ]
  },
  {
   "cell_type": "code",
   "execution_count": null,
   "id": "c8247dc6",
   "metadata": {},
   "outputs": [
    {
     "name": "stdout",
     "output_type": "stream",
     "text": [
      "Epoch 1: Loss=2.2329, RMSE=1.4943  Test set: Loss=1.9500, RMSE=1.3964\n",
      "Epoch 50: Loss=0.0968, RMSE=0.3112  Test set: Loss=0.0754, RMSE=0.2747\n",
      "Epoch 100: Loss=0.0872, RMSE=0.2952  Test set: Loss=0.0630, RMSE=0.2510\n",
      "Epoch 150: Loss=0.0811, RMSE=0.2848  Test set: Loss=0.0595, RMSE=0.2439\n",
      "Epoch 200: Loss=0.0761, RMSE=0.2759  Test set: Loss=0.0564, RMSE=0.2375\n",
      "Epoch 250: Loss=0.0240, RMSE=0.1549  Test set: Loss=0.0218, RMSE=0.1476\n",
      "Epoch 300: Loss=0.0088, RMSE=0.0941  Test set: Loss=0.0091, RMSE=0.0954\n",
      "Epoch 350: Loss=0.0074, RMSE=0.0862  Test set: Loss=0.0080, RMSE=0.0893\n",
      "Epoch 400: Loss=0.0071, RMSE=0.0843  Test set: Loss=0.0077, RMSE=0.0875\n",
      "Epoch 450: Loss=0.0067, RMSE=0.0821  Test set: Loss=0.0074, RMSE=0.0862\n",
      "Epoch 500: Loss=0.0062, RMSE=0.0789  Test set: Loss=0.0069, RMSE=0.0830\n"
     ]
    }
   ],
   "source": [
    "\n",
    "# Training loop\n",
    "num_epochs = 500# Set the number of epochs\n",
    "num_train = len(s_train)\n",
    "batch_size = 64\n",
    "x_test = s_test[:,:3]\n",
    "y_test = phi_test[:,[3,2]]\n",
    "for epoch in range(num_epochs):\n",
    "\n",
    "    for batch_start in range(0, num_train, batch_size):\n",
    "        batch_end = batch_start + batch_size\n",
    "        x_batch = s_train[batch_start:batch_end, :3] #train on theta, theta_dot, and h\n",
    "        y_batch = phi_train[batch_start:batch_end, [3,2]] #model ouput should be f_3x and f_3z only\n",
    "        model, opt_state = train_step(model, x_batch, y_batch, opt_state, optimizer)\n",
    "\n",
    "    if (epoch + 1) % 50 == 0 or epoch == 0:\n",
    "        loss = compute_loss(model, x_batch, y_batch)\n",
    "        acc = compute_accuracy(model, x_batch, y_batch)\n",
    "        test_loss = compute_loss(model, x_test, y_test)\n",
    "        test_acc = compute_accuracy(model, x_test, y_test)\n",
    "        print(f\"Epoch {epoch+1}: Loss={loss:.4f}, RMSE={acc:.4f}  Test set: Loss={test_loss:.4f}, RMSE={test_acc:.4f}\")"
   ]
  }
 ],
 "metadata": {
  "kernelspec": {
   "display_name": ".venv",
   "language": "python",
   "name": "python3"
  },
  "language_info": {
   "codemirror_mode": {
    "name": "ipython",
    "version": 3
   },
   "file_extension": ".py",
   "mimetype": "text/x-python",
   "name": "python",
   "nbconvert_exporter": "python",
   "pygments_lexer": "ipython3",
   "version": "3.13.7"
  }
 },
 "nbformat": 4,
 "nbformat_minor": 5
}
