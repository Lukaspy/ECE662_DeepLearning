{
 "cells": [
  {
   "cell_type": "code",
   "execution_count": null,
   "id": "43777a36",
   "metadata": {},
   "outputs": [
    {
     "data": {
      "text/plain": [
       "(10000, 3)"
      ]
     },
     "execution_count": 19,
     "metadata": {},
     "output_type": "execute_result"
    }
   ],
   "source": [
    "import jax.numpy as jnp\n",
    "import numpy as np\n",
    "\n",
    "with open(\"data.npy\", 'rb') as f:\n",
    "    s = jnp.load(f)\n",
    "    phi = jnp.load(f)\n",
    "    \n",
    "#s[n] = (θ,  ̇θ, h) \n",
    "s.shape"
   ]
  },
  {
   "cell_type": "code",
   "execution_count": 20,
   "id": "529c9512",
   "metadata": {},
   "outputs": [
    {
     "data": {
      "text/plain": [
       "(10000, 4)"
      ]
     },
     "execution_count": 20,
     "metadata": {},
     "output_type": "execute_result"
    }
   ],
   "source": [
    "#φ[n] = [φ_1 φ_2 φ_3z φ_3x] //one row\n",
    "phi.shape"
   ]
  },
  {
   "cell_type": "code",
   "execution_count": null,
   "id": "de3d64a6",
   "metadata": {},
   "outputs": [
    {
     "data": {
      "text/plain": [
       "Array([], shape=(0, 3), dtype=float32)"
      ]
     },
     "execution_count": 18,
     "metadata": {},
     "output_type": "execute_result"
    }
   ],
   "source": [
    "#pull out minibatch from data\n",
    "class BatchLoader:\n",
    "\n",
    "    def __init__(self, df: string, train_pcnt = 0.8, seed = 42):\n",
    "        with open(df, 'rb') as f:\n",
    "            s = jnp.load(f)\n",
    "            phi = jnp.load(f)\n",
    "        \n",
    "        #shuffle the dataset and split into test/train\n",
    "        n = len(s)\n",
    "        indexes = jnp.arange(n)\n",
    "        np.random.seed(seed)\n",
    "        np.random.shuffle(indexes)\n",
    "        \n",
    "        split = int (split_pcnt * n)\n",
    "        \n",
    "        train_idx = indexes[0:split]\n",
    "        test_idx = indexes[0:split]\n",
    "        \n",
    "        self.s_train, self.s_test = s[train_idx], s[test_idx]\n",
    "        self.phi_train, self.phi_test = phi[train_idx], phi[test_idx]\n",
    "\n",
    "        \n",
    "\n",
    "    \n",
    "    \n"
   ]
  }
 ],
 "metadata": {
  "kernelspec": {
   "display_name": ".venv",
   "language": "python",
   "name": "python3"
  },
  "language_info": {
   "codemirror_mode": {
    "name": "ipython",
    "version": 3
   },
   "file_extension": ".py",
   "mimetype": "text/x-python",
   "name": "python",
   "nbconvert_exporter": "python",
   "pygments_lexer": "ipython3",
   "version": "3.13.7"
  }
 },
 "nbformat": 4,
 "nbformat_minor": 5
}
