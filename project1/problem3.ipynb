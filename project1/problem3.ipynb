{
 "cells": [
  {
   "cell_type": "code",
   "execution_count": 1,
   "id": "43777a36",
   "metadata": {},
   "outputs": [
    {
     "data": {
      "text/plain": [
       "(10000, 3)"
      ]
     },
     "execution_count": 1,
     "metadata": {},
     "output_type": "execute_result"
    }
   ],
   "source": [
    "import jax\n",
    "import jax.numpy as jnp\n",
    "import numpy as np\n",
    "import optax\n",
    "import equinox as eqx\n",
    "from mlp_prob2 import MLP\n",
    "\n",
    "with open(\"data.npy\", 'rb') as f:\n",
    "    s = jnp.load(f)\n",
    "    phi = jnp.load(f) # phi for prob 1\n",
    "    phi_2 = jnp.load(f) #phi for prob 2\n",
    "    phi_3 = jnp.load(f) #phi for prob 3\n",
    "    \n",
    "#s[n] = (θ,  ̇θ, h) \n",
    "s.shape"
   ]
  },
  {
   "cell_type": "code",
   "execution_count": null,
   "id": "529c9512",
   "metadata": {},
   "outputs": [
    {
     "data": {
      "text/plain": [
       "(10000, 4)"
      ]
     },
     "execution_count": 2,
     "metadata": {},
     "output_type": "execute_result"
    }
   ],
   "source": [
    "#φ[n] = [φ_1 φ_2 φ_3z φ_3x] //one row\n",
    "phi.shape"
   ]
  },
  {
   "cell_type": "code",
   "execution_count": null,
   "id": "de3d64a6",
   "metadata": {},
   "outputs": [],
   "source": [
    "def shuffle_and_split(x, y, train_pcnt = 0.8, seed = 42):\n",
    "    \n",
    "    #shuffle the dataset and split into test/train\n",
    "    n = len(s)\n",
    "    indexes = np.arange(n)\n",
    "    np.random.seed(seed)\n",
    "    np.random.shuffle(indexes)\n",
    "    \n",
    "    split = int (train_pcnt * n)\n",
    "    \n",
    "    train_idx = indexes[0:split]\n",
    "    test_idx = indexes[split:]\n",
    "    \n",
    "    x_train, x_test = x[train_idx], x[test_idx]\n",
    "    y_train, y_test = y[train_idx], y[test_idx]\n",
    "    return x_train, y_train, x_test, y_test\n",
    "\n",
    "s_train, phi_train, s_test, phi_test = shuffle_and_split(s, phi_3)\n"
   ]
  },
  {
   "cell_type": "code",
   "execution_count": 4,
   "id": "04f843e4",
   "metadata": {},
   "outputs": [
    {
     "name": "stdout",
     "output_type": "stream",
     "text": [
      "(8000, 3)\n",
      "(2000, 3)\n",
      "(8000, 4)\n",
      "(2000, 4)\n"
     ]
    }
   ],
   "source": [
    "print(s_train.shape)\n",
    "print(s_test.shape)\n",
    "\n",
    "\n",
    "print(phi_train.shape)\n",
    "print(phi_test.shape)"
   ]
  },
  {
   "cell_type": "code",
   "execution_count": 5,
   "id": "da67c69c",
   "metadata": {},
   "outputs": [],
   "source": [
    "# Loss function and accuracy metric\n",
    "\n",
    "def compute_loss(model, x, y):\n",
    "    pred_y = jax.vmap(model)(x)  \n",
    "    return jnp.mean((pred_y - y) ** 2)\n",
    "\n",
    "\n",
    "def compute_accuracy(model, x, y):\n",
    "\n",
    "    def eval_single(model, x, y):\n",
    "        pred_y = model(x)\n",
    "        residual_sq = jnp.mean((y - pred_y)**2)\n",
    "        return residual_sq\n",
    "    res_all = jax.vmap(eval_single, in_axes=(None, 0, 0))(model, x, y)\n",
    "    return jnp.sqrt(jnp.sum(res_all) / x.shape[0])\n",
    "    "
   ]
  },
  {
   "cell_type": "code",
   "execution_count": 6,
   "id": "ea8150ef",
   "metadata": {},
   "outputs": [],
   "source": [
    "# Training step (JIT compiled)\n",
    "@eqx.filter_jit\n",
    "def train_step(model, x, y, opt_state, optimizer):\n",
    "    def loss_fn(model):\n",
    "        return compute_loss(model, x, y)\n",
    "    loss, grads = eqx.filter_value_and_grad(loss_fn)(model)\n",
    "    updates, opt_state = optimizer.update(grads, opt_state, eqx.filter(model, eqx.is_array))\n",
    "    model = eqx.apply_updates(model, updates)\n",
    "    return model, opt_state"
   ]
  },
  {
   "cell_type": "code",
   "execution_count": 7,
   "id": "fa3bfee6",
   "metadata": {},
   "outputs": [],
   "source": [
    "\n",
    "# Initialize model and optimizer\n",
    "key = jax.random.PRNGKey(0)\n",
    "model = MLP(key) # Instantiate your MLP model here\n",
    "optimizer = optax.adamw(learning_rate=1e-3, weight_decay=1e-4) # Choose your optimizer and learning_rate.\n",
    "opt_state = optimizer.init(eqx.filter(model, eqx.is_array))"
   ]
  },
  {
   "cell_type": "code",
   "execution_count": 8,
   "id": "f67ec3d5",
   "metadata": {},
   "outputs": [
    {
     "data": {
      "text/plain": [
       "(128, 3)"
      ]
     },
     "execution_count": 8,
     "metadata": {},
     "output_type": "execute_result"
    }
   ],
   "source": [
    "phi[0:128, [3,2]].shape\n",
    "s[0:128].shape"
   ]
  },
  {
   "cell_type": "code",
   "execution_count": null,
   "id": "c8247dc6",
   "metadata": {},
   "outputs": [
    {
     "name": "stdout",
     "output_type": "stream",
     "text": [
      "Epoch 1: Loss=0.0303, RMSE=0.1740  Test set: Loss=0.0191, RMSE=0.1383\n",
      "Epoch 50: Loss=0.0310, RMSE=0.1761  Test set: Loss=0.0180, RMSE=0.1343\n",
      "Epoch 100: Loss=0.0329, RMSE=0.1813  Test set: Loss=0.0172, RMSE=0.1312\n",
      "Epoch 150: Loss=0.0320, RMSE=0.1789  Test set: Loss=0.0166, RMSE=0.1289\n",
      "Epoch 200: Loss=0.0320, RMSE=0.1789  Test set: Loss=0.0159, RMSE=0.1262\n",
      "Epoch 250: Loss=0.0318, RMSE=0.1783  Test set: Loss=0.0157, RMSE=0.1251\n",
      "Epoch 300: Loss=0.0316, RMSE=0.1779  Test set: Loss=0.0153, RMSE=0.1236\n",
      "Epoch 350: Loss=0.0316, RMSE=0.1778  Test set: Loss=0.0149, RMSE=0.1220\n",
      "Epoch 400: Loss=0.0311, RMSE=0.1765  Test set: Loss=0.0144, RMSE=0.1201\n",
      "Epoch 450: Loss=0.0307, RMSE=0.1751  Test set: Loss=0.0140, RMSE=0.1181\n",
      "Epoch 500: Loss=0.0298, RMSE=0.1726  Test set: Loss=0.0137, RMSE=0.1171\n",
      "Epoch 550: Loss=0.0288, RMSE=0.1697  Test set: Loss=0.0136, RMSE=0.1168\n",
      "Epoch 600: Loss=0.0283, RMSE=0.1682  Test set: Loss=0.0143, RMSE=0.1197\n",
      "Epoch 650: Loss=0.0269, RMSE=0.1639  Test set: Loss=0.0137, RMSE=0.1171\n",
      "Epoch 700: Loss=0.0260, RMSE=0.1611  Test set: Loss=0.0134, RMSE=0.1157\n",
      "Epoch 750: Loss=0.0249, RMSE=0.1577  Test set: Loss=0.0126, RMSE=0.1122\n",
      "Epoch 800: Loss=0.0231, RMSE=0.1521  Test set: Loss=0.0121, RMSE=0.1100\n",
      "Epoch 850: Loss=0.0217, RMSE=0.1475  Test set: Loss=0.0114, RMSE=0.1069\n",
      "Epoch 900: Loss=0.0216, RMSE=0.1470  Test set: Loss=0.0110, RMSE=0.1048\n",
      "Epoch 950: Loss=0.0210, RMSE=0.1450  Test set: Loss=0.0099, RMSE=0.0997\n",
      "Epoch 1000: Loss=0.0205, RMSE=0.1431  Test set: Loss=0.0095, RMSE=0.0975\n"
     ]
    }
   ],
   "source": [
    "\n",
    "# Training loop\n",
    "num_epochs = 1000# Set the number of epochs\n",
    "num_train = len(s_train)\n",
    "batch_size = 64\n",
    "x_test = s_test[:,:3]\n",
    "y_test = phi_test[:,[3,2]]\n",
    "for epoch in range(num_epochs):\n",
    "\n",
    "    for batch_start in range(0, num_train, batch_size):\n",
    "        batch_end = batch_start + batch_size\n",
    "        x_batch = s_train[batch_start:batch_end, :3] #train on theta, theta_dot, and h\n",
    "        y_batch = phi_train[batch_start:batch_end, [3,2]] #model ouput should be f_3x and f_3z only\n",
    "        model, opt_state = train_step(model, x_batch, y_batch, opt_state, optimizer)\n",
    "\n",
    "    if (epoch + 1) % 50 == 0 or epoch == 0:\n",
    "        loss = compute_loss(model, x_batch, y_batch)\n",
    "        acc = compute_accuracy(model, x_batch, y_batch)\n",
    "        test_loss = compute_loss(model, x_test, y_test)\n",
    "        test_acc = compute_accuracy(model, x_test, y_test)\n",
    "        print(f\"Epoch {epoch+1}: Loss={loss:.4f}, RMSE={acc:.4f}  Test set: Loss={test_loss:.4f}, RMSE={test_acc:.4f}\")"
   ]
  }
 ],
 "metadata": {
  "kernelspec": {
   "display_name": "3.10.13",
   "language": "python",
   "name": "python3"
  },
  "language_info": {
   "codemirror_mode": {
    "name": "ipython",
    "version": 3
   },
   "file_extension": ".py",
   "mimetype": "text/x-python",
   "name": "python",
   "nbconvert_exporter": "python",
   "pygments_lexer": "ipython3",
   "version": "3.10.13"
  }
 },
 "nbformat": 4,
 "nbformat_minor": 5
}
