{
 "cells": [
  {
   "cell_type": "code",
   "execution_count": null,
   "metadata": {},
   "outputs": [],
   "source": [
    "import jax\n",
    "import jax.numpy as jnp\n",
    "from jax import random\n",
    "\n",
    "import numpy as np\n",
    "import collections"
   ]
  },
  {
   "cell_type": "code",
   "execution_count": null,
   "metadata": {},
   "outputs": [],
   "source": [
    "LAYER_SIZES = [200*200*3, 2048, 1024, 2]\n",
    "PARAM_SCALE = 0.01"
   ]
  },
  {
   "cell_type": "code",
   "execution_count": null,
   "metadata": {},
   "outputs": [],
   "source": [
    "def random_layer_params(m, n, key, scale=1e-2):\n",
    "    w_key, b_key = random.split(key)\n",
    "    return (scale * random.normal(w_key, (n, m)), \n",
    "        scale * random.normal(b_key, (n,)))\n",
    "\n",
    "def init_network_params(sizes, key=random.key(0), scale=0.01):\n",
    "    keys = random.split(key, len(sizes)-1)\n",
    "    return [random_layer_params(m, n, k, scale) \n",
    "        for m, n, k in zip(sizes[:-1], sizes[1:], keys)]"
   ]
  },
  {
   "cell_type": "code",
   "execution_count": null,
   "metadata": {},
   "outputs": [],
   "source": [
    "key = random.key(42)\n",
    "params = init_network_params(LAYER_SIZES, key, scale=PARAM_SCALE)\n",
    "params"
   ]
  },
  {
   "cell_type": "code",
   "execution_count": null,
   "metadata": {},
   "outputs": [],
   "source": [
    "shapes = jax.tree.map(lambda p: p.shape, params)\n",
    "\n",
    "for i, shape in enumerate(shapes):\n",
    "    print(i, shape)"
   ]
  },
  {
   "cell_type": "code",
   "execution_count": null,
   "metadata": {},
   "outputs": [],
   "source": [
    "Point = collections.namedtuple('Point', ['x', 'y'])\n",
    "\n",
    "example_pytree = [\n",
    "    {\n",
    "        'a': [1, 2, 3],\n",
    "        'b': jnp.array([1, 2, 3]),\n",
    "        'c': np.array([1, 2, 3]),\n",
    "    },\n",
    "    [42, [44, 46], None],\n",
    "    31337,\n",
    "    (50, (60, 70)),\n",
    "    Point(640, 480),\n",
    "    collections.OrderedDict([('a', 100), ('b', 200)]),\n",
    "    'some string'\n",
    "]\n",
    "\n",
    "jax.tree.leaves(example_pytree)"
   ]
  },
  {
   "cell_type": "code",
   "execution_count": null,
   "metadata": {},
   "outputs": [],
   "source": [
    "import torch\n",
    "from torch.utils.data import Dataset\n",
    "from torchvision import datasets\n",
    "from torchvision.transforms import ToTensor\n",
    "import matplotlib.pyplot as plt"
   ]
  },
  {
   "cell_type": "code",
   "execution_count": null,
   "metadata": {},
   "outputs": [],
   "source": [
    "training_data = datasets.MNIST(\n",
    "    root=\"data\",\n",
    "    train=True,\n",
    "    download=True,\n",
    "    transform=ToTensor()\n",
    ")\n",
    "\n",
    "test_data = datasets.MNIST(\n",
    "    root=\"data\",\n",
    "    train=False,\n",
    "    download=True,\n",
    "    transform=ToTensor()\n",
    ")"
   ]
  },
  {
   "cell_type": "code",
   "execution_count": null,
   "metadata": {},
   "outputs": [],
   "source": [
    "from torch.utils.data import DataLoader\n",
    "\n",
    "train_dataloader = DataLoader(training_data, batch_size=64, shuffle=True)\n",
    "test_dataloader = DataLoader(test_data, batch_size=64, shuffle=True)"
   ]
  },
  {
   "cell_type": "code",
   "execution_count": null,
   "metadata": {},
   "outputs": [],
   "source": [
    "HEIGHT, WIDTH, CHANNELS = 28, 28, 1\n",
    "NUM_PIXELS = HEIGHT * WIDTH * CHANNELS\n",
    "NUM_LABELS = 10"
   ]
  },
  {
   "cell_type": "code",
   "execution_count": null,
   "metadata": {},
   "outputs": [],
   "source": [
    "LAYER_SIZES = [28 * 28, 512, 10]\n",
    "PARAM_SCALE = 0.1"
   ]
  },
  {
   "cell_type": "code",
   "execution_count": null,
   "metadata": {},
   "outputs": [],
   "source": [
    "from jax import grad, jit, vmap, value_and_grad\n",
    "from jax import random\n",
    "from jax.nn import swish, logsumexp, one_hot"
   ]
  },
  {
   "cell_type": "code",
   "execution_count": null,
   "metadata": {},
   "outputs": [],
   "source": [
    "def init_network_params(sizes, key=random.key(0), scale=1e-2):\n",
    "    \"\"\"Initialize all layers\"\"\"\n",
    "\n",
    "    def random_layer_params(m, n, key, scale=1e-2):\n",
    "        \"\"\"A helper function\"\"\"\n",
    "        w_key, b_key = random.split(key)\n",
    "        return scale * random.normal(w_key, (n,m)), scale * random.normal(b_key, (n,))\n",
    "\n",
    "    keys = random.split(key, len(sizes))\n",
    "    return [random_layer_params(m, n, k) for m, n, k in zip(sizes[:-1], sizes[1:], keys)]"
   ]
  },
  {
   "cell_type": "code",
   "execution_count": null,
   "metadata": {},
   "outputs": [],
   "source": [
    "init_params = init_network_params(LAYER_SIZES, random.key(0), scale=PARAM_SCALE)"
   ]
  },
  {
   "cell_type": "code",
   "execution_count": null,
   "metadata": {},
   "outputs": [],
   "source": [
    "def predict(params, image):\n",
    "    \"\"\"Function for per-example predictions.\"\"\"\n",
    "    activations = image\n",
    "    for w, b in params[:-1]:\n",
    "        outputs = jnp.dot(w, activations) + b\n",
    "        activations = swish(outputs)\n",
    "    \n",
    "    final_w, final_b = params[-1]\n",
    "    logits = jnp.dot(final_w, activations) + final_b\n",
    "    return logits"
   ]
  },
  {
   "cell_type": "code",
   "execution_count": null,
   "metadata": {},
   "outputs": [],
   "source": [
    "batched_predict = vmap(predict, in_axes=(None, 0))"
   ]
  },
  {
   "cell_type": "code",
   "execution_count": null,
   "metadata": {},
   "outputs": [],
   "source": [
    "INIT_LR = 1.0\n",
    "DECAY_RATE = 0.95\n",
    "DECAY_STEPS = 5"
   ]
  },
  {
   "cell_type": "code",
   "execution_count": null,
   "metadata": {},
   "outputs": [],
   "source": [
    "def loss(params, images, targets):\n",
    "    \"\"\"Categorical cross entropy loss.\"\"\"\n",
    "    logits = batched_predict(params, images)\n",
    "    log_preds = logits - logsumexp(logits)\n",
    "    return -jnp.mean(targets*log_preds)\n",
    "\n",
    "@jax.jit\n",
    "def update(params, x, y, epoch_number):\n",
    "    print(f\"Params shapes: {jax.tree.map(lambda p: p.shape, params)}\")\n",
    "    loss_value, grads = value_and_grad(loss)(params, x, y)\n",
    "    print(f\"Grads shapes: {jax.tree.map(lambda g: g.shape, grads)}\")\n",
    "    lr = INIT_LR * DECAY_RATE ** (epoch_number / DECAY_STEPS)\n",
    "    return [(w - lr * dw, b - lr * db) for (w, b), (dw, db) in zip(params, grads)], loss_value"
   ]
  },
  {
   "cell_type": "code",
   "execution_count": null,
   "metadata": {},
   "outputs": [],
   "source": [
    "x, y = next(iter(train_dataloader))\n",
    "x = x.numpy().reshape(64, 28*28)\n",
    "x = jnp.reshape(x, (len(x), NUM_PIXELS))\n",
    "y = one_hot(y.numpy(), NUM_LABELS)"
   ]
  },
  {
   "cell_type": "code",
   "execution_count": null,
   "metadata": {},
   "outputs": [],
   "source": [
    "params, loss_value = update(init_params, x, y, 0)"
   ]
  },
  {
   "cell_type": "markdown",
   "metadata": {},
   "source": [
    "### Functions for working with pytrees"
   ]
  },
  {
   "cell_type": "code",
   "execution_count": null,
   "metadata": {},
   "outputs": [],
   "source": [
    "params = init_network_params(LAYER_SIZES, key, scale=PARAM_SCALE)"
   ]
  },
  {
   "cell_type": "code",
   "execution_count": null,
   "metadata": {},
   "outputs": [],
   "source": [
    "scaled_params = jax.tree.map(lambda p: 10 * p, params)"
   ]
  },
  {
   "cell_type": "code",
   "execution_count": null,
   "metadata": {},
   "outputs": [],
   "source": [
    "some_pytree = [\n",
    "    [1, 1, 1],\n",
    "    [\n",
    "        [10, 10, 10], [20, 20]\n",
    "    ]\n",
    "]"
   ]
  },
  {
   "cell_type": "code",
   "execution_count": null,
   "metadata": {},
   "outputs": [],
   "source": [
    "jax.tree.map(lambda p: p+1, some_pytree)"
   ]
  },
  {
   "cell_type": "code",
   "execution_count": null,
   "metadata": {},
   "outputs": [],
   "source": [
    "leaves, struct = jax.tree.flatten(some_pytree)"
   ]
  },
  {
   "cell_type": "code",
   "execution_count": null,
   "metadata": {},
   "outputs": [],
   "source": [
    "print(leaves)\n",
    "print(struct)"
   ]
  },
  {
   "cell_type": "code",
   "execution_count": null,
   "metadata": {},
   "outputs": [],
   "source": [
    "updated_leaves = map(lambda x: x+1, leaves)"
   ]
  },
  {
   "cell_type": "code",
   "execution_count": null,
   "metadata": {},
   "outputs": [],
   "source": [
    "jax.tree.unflatten(struct, updated_leaves)"
   ]
  },
  {
   "cell_type": "code",
   "execution_count": null,
   "metadata": {},
   "outputs": [],
   "source": [
    "from jax.flatten_util import ravel_pytree"
   ]
  },
  {
   "cell_type": "code",
   "execution_count": null,
   "metadata": {},
   "outputs": [],
   "source": [
    "leaves, unflatten_func = ravel_pytree(some_pytree)"
   ]
  },
  {
   "cell_type": "code",
   "execution_count": null,
   "metadata": {},
   "outputs": [],
   "source": [
    "print(leaves)\n",
    "print(unflatten_func)"
   ]
  },
  {
   "cell_type": "code",
   "execution_count": null,
   "metadata": {},
   "outputs": [],
   "source": [
    "unflatten_func(leaves)"
   ]
  },
  {
   "cell_type": "markdown",
   "metadata": {},
   "source": [
    "### Reducing a tree"
   ]
  },
  {
   "cell_type": "code",
   "execution_count": null,
   "metadata": {},
   "outputs": [],
   "source": [
    "jax.tree.reduce(lambda accumulator, value: accumulator+value, some_pytree, initializer=0)"
   ]
  },
  {
   "cell_type": "code",
   "execution_count": null,
   "metadata": {},
   "outputs": [],
   "source": [
    "import math\n",
    "from collections import namedtuple"
   ]
  },
  {
   "cell_type": "markdown",
   "metadata": {},
   "source": [
    "### Transposing a pytree"
   ]
  },
  {
   "cell_type": "code",
   "execution_count": null,
   "metadata": {},
   "outputs": [],
   "source": [
    "Point = namedtuple('Point', ['x', 'y'])"
   ]
  },
  {
   "cell_type": "code",
   "execution_count": null,
   "metadata": {},
   "outputs": [],
   "source": [
    "points = [\n",
    "    Point(0.0, 0.0),\n",
    "    Point(3.0, 0.0),\n",
    "    Point(0.0, 4.0)\n",
    "]"
   ]
  },
  {
   "cell_type": "code",
   "execution_count": null,
   "metadata": {},
   "outputs": [],
   "source": [
    "def rotate_point(p, theta):\n",
    "    x = p.x * math.cos(theta) - p.y * math.sin(theta)\n",
    "    y = p.x * math.sin(theta) + p.y * math.cos(theta)\n",
    "    return Point(x, y)"
   ]
  },
  {
   "cell_type": "code",
   "execution_count": null,
   "metadata": {},
   "outputs": [],
   "source": [
    "rotate_point(points[1], math.pi)"
   ]
  },
  {
   "cell_type": "code",
   "execution_count": null,
   "metadata": {},
   "outputs": [],
   "source": [
    "jax.vmap(rotate_point, in_axes=(0, None))(points, math.pi)"
   ]
  },
  {
   "cell_type": "code",
   "execution_count": null,
   "metadata": {},
   "outputs": [],
   "source": [
    "jax.tree.structure(points)"
   ]
  },
  {
   "cell_type": "code",
   "execution_count": null,
   "metadata": {},
   "outputs": [],
   "source": [
    "jax.tree.structure(points[0])"
   ]
  },
  {
   "cell_type": "code",
   "execution_count": null,
   "metadata": {},
   "outputs": [],
   "source": [
    "points_t = jax.tree.transpose(\n",
    "    outer_treedef=jax.tree.structure([0 for p in points]),\n",
    "    inner_treedef=jax.tree.structure(points[0]),\n",
    "    pytree_to_transpose=points\n",
    ")\n",
    "points_t"
   ]
  },
  {
   "cell_type": "code",
   "execution_count": null,
   "metadata": {},
   "outputs": [],
   "source": [
    "points_t_array = Point(jnp.array(points_t.x), jnp.array(points_t.y))\n",
    "points_t_array"
   ]
  },
  {
   "cell_type": "code",
   "execution_count": null,
   "metadata": {},
   "outputs": [],
   "source": [
    "jax.vmap(rotate_point, in_axes=(0, None))(points_t_array, math.pi)"
   ]
  },
  {
   "cell_type": "markdown",
   "metadata": {},
   "source": [
    "### Creating custom pytree nodes"
   ]
  },
  {
   "cell_type": "code",
   "execution_count": null,
   "metadata": {},
   "outputs": [],
   "source": [
    "class Layer:\n",
    "    def __init__(self, name, w, b):\n",
    "        self.name = name\n",
    "        self.w = w\n",
    "        self.b = b"
   ]
  },
  {
   "cell_type": "code",
   "execution_count": null,
   "metadata": {},
   "outputs": [],
   "source": [
    "h1 = Layer('hidden1', jnp.zeros((100,20)), jnp.zeros((20,)))"
   ]
  },
  {
   "cell_type": "code",
   "execution_count": null,
   "metadata": {},
   "outputs": [],
   "source": [
    "pt = [\n",
    "    jnp.ones(50),\n",
    "    h1\n",
    "]"
   ]
  },
  {
   "cell_type": "code",
   "execution_count": null,
   "metadata": {},
   "outputs": [],
   "source": [
    "jax.tree.leaves(pt)"
   ]
  },
  {
   "cell_type": "code",
   "execution_count": null,
   "metadata": {},
   "outputs": [],
   "source": [
    "jax.tree.map(lambda x: x*10, pt)\n"
   ]
  },
  {
   "cell_type": "code",
   "execution_count": null,
   "metadata": {},
   "outputs": [],
   "source": [
    "def flatten_layer(container):\n",
    "    flat_contents = [container.w, container.b]\n",
    "    aux_data = container.name\n",
    "    return flat_contents, aux_data\n",
    "\n",
    "def unflatten_layer(aux_data, flat_contents):\n",
    "    return Layer(aux_data, *flat_contents)"
   ]
  },
  {
   "cell_type": "code",
   "execution_count": null,
   "metadata": {},
   "outputs": [],
   "source": [
    "jax.tree_util.register_pytree_node(\n",
    "    Layer,\n",
    "    flatten_layer,\n",
    "    unflatten_layer\n",
    ")"
   ]
  },
  {
   "cell_type": "code",
   "execution_count": null,
   "metadata": {},
   "outputs": [],
   "source": [
    "h1 = Layer('hidden1', jnp.zeros((100, 20)), jnp.zeros((20,)))"
   ]
  },
  {
   "cell_type": "code",
   "execution_count": null,
   "metadata": {},
   "outputs": [],
   "source": [
    "pt = [\n",
    "    jnp.ones(50), \n",
    "    h1\n",
    "]"
   ]
  },
  {
   "cell_type": "code",
   "execution_count": null,
   "metadata": {},
   "outputs": [],
   "source": [
    "jax.tree.leaves(pt)"
   ]
  },
  {
   "cell_type": "code",
   "execution_count": null,
   "metadata": {},
   "outputs": [],
   "source": [
    "jax.tree.map(lambda x: x*10, pt)"
   ]
  },
  {
   "cell_type": "code",
   "execution_count": null,
   "metadata": {},
   "outputs": [],
   "source": [
    "jax.tree.leaves(pt)"
   ]
  },
  {
   "cell_type": "code",
   "execution_count": null,
   "metadata": {},
   "outputs": [],
   "source": [
    "pt2 = jax.tree.map(lambda x: x+1, pt)"
   ]
  },
  {
   "cell_type": "code",
   "execution_count": null,
   "metadata": {},
   "outputs": [],
   "source": [
    "pt2"
   ]
  },
  {
   "cell_type": "code",
   "execution_count": null,
   "metadata": {},
   "outputs": [],
   "source": [
    "jax.tree.leaves(pt2)"
   ]
  },
  {
   "cell_type": "code",
   "execution_count": null,
   "metadata": {},
   "outputs": [],
   "source": []
  }
 ],
 "metadata": {
  "kernelspec": {
   "display_name": "deeplearning",
   "language": "python",
   "name": "python3"
  },
  "language_info": {
   "codemirror_mode": {
    "name": "ipython",
    "version": 3
   },
   "file_extension": ".py",
   "mimetype": "text/x-python",
   "name": "python",
   "nbconvert_exporter": "python",
   "pygments_lexer": "ipython3",
   "version": "3.13.5"
  }
 },
 "nbformat": 4,
 "nbformat_minor": 2
}
